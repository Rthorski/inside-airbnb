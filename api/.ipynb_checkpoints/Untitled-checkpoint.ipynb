{
 "cells": [
  {
   "cell_type": "code",
   "execution_count": 1,
   "id": "fb01f0fd",
   "metadata": {},
   "outputs": [],
   "source": [
    "import pandas as pd\n",
    "import psycopg2\n",
    "from sqlalchemy import create_engine"
   ]
  },
  {
   "cell_type": "code",
   "execution_count": 2,
   "id": "078233c5",
   "metadata": {},
   "outputs": [],
   "source": [
    "df = pd.read_csv('Airbnb listings.csv')"
   ]
  },
  {
   "cell_type": "code",
   "execution_count": 3,
   "id": "66a55f19",
   "metadata": {},
   "outputs": [],
   "source": [
    "# Informations de connexion à la base de données PostgreSQL\n",
    "host = 'localhost'\n",
    "database = 'inside_airbnb_db'\n",
    "user = 'inside_airbnb_user'\n",
    "password = '/d4JTaHaH3.9883!tUY_4dc'\n",
    "port=5434\n",
    "\n",
    "def injecter_donnees(df):\n",
    "    engine = create_engine(f'postgresql://{user}:{password}@{host}:{port}/{database}')\n",
    "    df.to_sql('ny', engine, if_exists='replace', index=False)"
   ]
  },
  {
   "cell_type": "code",
   "execution_count": 4,
   "id": "6024925a",
   "metadata": {},
   "outputs": [],
   "source": [
    "injecter_donnees(df)"
   ]
  },
  {
   "cell_type": "code",
   "execution_count": null,
   "id": "bbdc8c9d",
   "metadata": {},
   "outputs": [],
   "source": []
  }
 ],
 "metadata": {
  "kernelspec": {
   "display_name": "Python 3 (ipykernel)",
   "language": "python",
   "name": "python3"
  },
  "language_info": {
   "codemirror_mode": {
    "name": "ipython",
    "version": 3
   },
   "file_extension": ".py",
   "mimetype": "text/x-python",
   "name": "python",
   "nbconvert_exporter": "python",
   "pygments_lexer": "ipython3",
   "version": "3.10.11"
  }
 },
 "nbformat": 4,
 "nbformat_minor": 5
}
